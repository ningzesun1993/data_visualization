{
 "cells": [
  {
   "cell_type": "code",
   "execution_count": 1,
   "metadata": {},
   "outputs": [],
   "source": [
    "from sklearn.preprocessing import LabelEncoder\n",
    "import pandas as pd\n",
    "import numpy as np"
   ]
  },
  {
   "cell_type": "code",
   "execution_count": 2,
   "metadata": {},
   "outputs": [],
   "source": [
    "df_fill = pd.read_csv('./data/fill_geo.csv')\n",
    "df_unfill = pd.read_csv('./data/unfill_geo.csv')\n",
    "columns = [x for x in df_fill if x not in [\"parcelid\", \"longitude\", \"latitude\", 'propertycountylandusecode']]\n",
    "col_int = ['roomcnt', 'regionidzip', 'bedroomcnt', 'bathroomcnt', 'taxamount']\n",
    "for i in col_int:\n",
    "    df_unfill[i] = df_unfill[i].apply(lambda x: int(x) if not np.isnan(x) else x)\n",
    "    df_fill[i] = df_fill[i].apply(lambda x: int(x) if not np.isnan(x) else x)"
   ]
  },
  {
   "cell_type": "code",
   "execution_count": 3,
   "metadata": {},
   "outputs": [
    {
     "name": "stdout",
     "output_type": "stream",
     "text": [
      "assessmentyear is done!\n",
      "roomcnt is done!\n",
      "regionidzip is done!\n",
      "rawcensustractandblock is done!\n",
      "bedroomcnt is done!\n",
      "calculatedfinishedsquarefeet is done!\n",
      "propertylandusetypeid is done!\n",
      "regionidcounty is done!\n",
      "taxvaluedollarcnt is done!\n",
      "bathroomcnt is done!\n",
      "taxamount is done!\n",
      "fips is done!\n",
      "structuretaxvaluedollarcnt is done!\n"
     ]
    }
   ],
   "source": [
    "for i in columns:\n",
    "    le = LabelEncoder()\n",
    "    df_fill[i] = le.fit_transform(df_fill[i])\n",
    "    df_unfill[i] = df_unfill[i].apply(lambda x: le.transform([x])[0] if not np.isnan(x) else x)\n",
    "    print(i + ' is done!')"
   ]
  },
  {
   "cell_type": "code",
   "execution_count": 4,
   "metadata": {},
   "outputs": [],
   "source": [
    "for i in columns:\n",
    "    df_fill[i + '_nan'] = df_unfill[i].isna().astype(int) * 6"
   ]
  },
  {
   "cell_type": "code",
   "execution_count": 5,
   "metadata": {},
   "outputs": [],
   "source": [
    "df_fill.sample(10000).to_csv('./data/sampled_le.csv', index = False)"
   ]
  },
  {
   "cell_type": "code",
   "execution_count": null,
   "metadata": {},
   "outputs": [],
   "source": []
  }
 ],
 "metadata": {
  "kernelspec": {
   "display_name": "Python 3",
   "language": "python",
   "name": "python3"
  },
  "language_info": {
   "codemirror_mode": {
    "name": "ipython",
    "version": 3
   },
   "file_extension": ".py",
   "mimetype": "text/x-python",
   "name": "python",
   "nbconvert_exporter": "python",
   "pygments_lexer": "ipython3",
   "version": "3.7.5"
  }
 },
 "nbformat": 4,
 "nbformat_minor": 2
}
